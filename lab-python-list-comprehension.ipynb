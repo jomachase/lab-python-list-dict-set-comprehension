{
 "cells": [
  {
   "cell_type": "markdown",
   "id": "25d7736c-ba17-4aff-b6bb-66eba20fbf4e",
   "metadata": {},
   "source": [
    "# Lab | List, Dict and Set Comprehension"
   ]
  },
  {
   "cell_type": "markdown",
   "id": "7dd3cbde-675a-4b81-92c3-f728846dbe06",
   "metadata": {},
   "source": [
    "## Exercise: Managing Customer Orders Optimized with Comprehension"
   ]
  },
  {
   "cell_type": "markdown",
   "id": "5d500160-2fb7-4777-b5e4-09d45ebaf328",
   "metadata": {},
   "source": [
    "In the previous exercise, you developed a program to manage customer orders and inventory. Now, let's take it a step further and incorporate comprehension into your code.\n",
    "\n",
    "Follow the steps below to complete the exercise:\n",
    "\n",
    "1. Review your code from the previous exercise and identify areas where you can apply comprehension to simplify and streamline your code. \n",
    "\n",
    "    - *Hint: Apply it to initialize inventory, updating the inventory and printing the updated inventory.*\n",
    "    \n",
    "    - For example, in initializing the inventory, we could have:\n",
    "    \n",
    "        ```python\n",
    "        def initialize_inventory(products):\n",
    "            inventory = {product: int(input(f\"Enter the quantity of {product}s available: \")) for product in products}\n",
    "            return inventory\n",
    "\n",
    "        ```\n",
    "<br>\n",
    "    \n",
    "    \n",
    "2. Modify the function get_customer_orders so it prompts the user to enter the number of customer orders and gathers the product names using a loop and user input. Use comprehension.\n",
    "\n",
    "3. Add a new function to calculate the total price of the customer order. For each product in customer_orders, prompt the user to enter the price of that product. Use comprehension to calculate the total price. Note: assume that the user can only have 1 unit of each product.\n",
    "\n",
    "4. Modify the update_inventory function to remove the product from the inventory if its quantity becomes zero after fulfilling the customer orders. Use comprehension to filter out the products with a quantity of zero from the inventory.\n",
    "\n",
    "5. Print the total price of the customer order.\n",
    "\n",
    "Your code should produce output similar to the following:\n",
    "\n",
    "```python\n",
    "Enter the quantity of t-shirts available:  5\n",
    "Enter the quantity of mugs available:  4\n",
    "Enter the quantity of hats available:  3\n",
    "Enter the quantity of books available:  2\n",
    "Enter the quantity of keychains available:  1\n",
    "Enter the number of customer orders:  2\n",
    "Enter the name of a product that a customer wants to order:  hat\n",
    "Enter the name of a product that a customer wants to order:  keychain\n",
    "\n",
    "Order Statistics:\n",
    "Total Products Ordered: 2\n",
    "Percentage of Unique Products Ordered: 40.0\n",
    "\n",
    "Updated Inventory:\n",
    "t-shirt: 5\n",
    "mug: 4\n",
    "hat: 2\n",
    "book: 2\n",
    "Enter the price of keychain:  5\n",
    "Enter the price of hat:  10\n",
    "Total Price: 15.0\n",
    "\n",
    "```\n"
   ]
  },
  {
   "cell_type": "markdown",
   "id": "9a3f9f44-143a-4517-b8c8-7f9d61e77d69",
   "metadata": {},
   "source": [
    "__Step 1:__"
   ]
  },
  {
   "cell_type": "code",
   "execution_count": 1,
   "id": "ef16a971-1c04-4b72-8c0b-1a711f280a69",
   "metadata": {},
   "outputs": [],
   "source": [
    "def initialize_inventory(products):\n",
    "    inventory = {product: int(input(f\"Enter the quantity of {product}s available: \")) for product in products}\n",
    "    return inventory"
   ]
  },
  {
   "cell_type": "markdown",
   "id": "05a28de2-ac91-4a30-94d0-ae764d6a3776",
   "metadata": {},
   "source": [
    "__Step 2:__"
   ]
  },
  {
   "cell_type": "code",
   "execution_count": 2,
   "id": "6a33b6e6-570d-4e3b-89e9-128d2f5a01f8",
   "metadata": {},
   "outputs": [],
   "source": [
    "def get_customer_orders(products):\n",
    "    num_orders = int(input(\"Enter the number of customer orders: \"))\n",
    "    \n",
    "    # Listing comprehension to gather orders with input validation\n",
    "    customer_orders = [input(f\"Enter the name of a product that a customer wants to order: \").strip().lower() \n",
    "                       for _ in range(num_orders)]\n",
    "    \n",
    "    # Removing any products that are not in the original product list\n",
    "    customer_orders = [product for product in customer_orders if product in products]\n",
    "    return customer_orders"
   ]
  },
  {
   "cell_type": "markdown",
   "id": "c7f87756-a6ac-4e1f-850f-17fb1fb558df",
   "metadata": {},
   "source": [
    "__Step 3:__"
   ]
  },
  {
   "cell_type": "code",
   "execution_count": 3,
   "id": "f1b9270f-c269-416a-ba00-a49c90281268",
   "metadata": {},
   "outputs": [],
   "source": [
    "def calculate_total_price(customer_orders):\n",
    "    # Use set to ensure unique products per purchase (1 per product)\n",
    "    prices = {product: float(input(f\"Enter the price of {product}: \")) for product in set(customer_orders)}\n",
    "    total_price = sum(prices[product] for product in set(customer_orders))\n",
    "    return total_price"
   ]
  },
  {
   "cell_type": "markdown",
   "id": "924d41fe-9a2e-48d7-93e4-81ad0899396c",
   "metadata": {},
   "source": [
    "__Step 4:__"
   ]
  },
  {
   "cell_type": "code",
   "execution_count": 4,
   "id": "d144cae1-ec80-437f-83ff-43774fd6bcd2",
   "metadata": {},
   "outputs": [],
   "source": [
    "def update_inventory(customer_orders, inventory):\n",
    "    # Subtracting 1 from inventory for each ordered product\n",
    "    for product in set(customer_orders):\n",
    "        if inventory[product] > 0:\n",
    "            inventory[product] -= 1\n",
    "            \n",
    "    # Removing products with zero quantity using dictionary comprehension\n",
    "    updated_inventory = {product: qty for product, qty in inventory.items() if qty > 0}\n",
    "    return updated_inventory"
   ]
  },
  {
   "cell_type": "markdown",
   "id": "99047ba4-eb45-44ce-ba2b-ccd862e3e13b",
   "metadata": {},
   "source": [
    "__Step 5:__"
   ]
  },
  {
   "cell_type": "code",
   "execution_count": 12,
   "id": "d106862c-0053-4fff-8891-edb7d2055a5b",
   "metadata": {},
   "outputs": [
    {
     "name": "stdout",
     "output_type": "stream",
     "text": [
      "\n",
      "Updated Inventory:\n",
      "t-shirt:  5\n",
      "mug:      4\n",
      "hat:      2\n",
      "book:     2\n"
     ]
    },
    {
     "name": "stdin",
     "output_type": "stream",
     "text": [
      "Enter the price of keychain :  5\n"
     ]
    },
    {
     "name": "stdout",
     "output_type": "stream",
     "text": [
      "Enter the price of keychain :   5\n"
     ]
    },
    {
     "name": "stdin",
     "output_type": "stream",
     "text": [
      "Enter the price of hat      :  10\n"
     ]
    },
    {
     "name": "stdout",
     "output_type": "stream",
     "text": [
      "Enter the price of hat      :  10\n",
      "Total Price:  15.0\n",
      "\n",
      "Order Statistics:\n",
      "Total Products Ordered: 2\n",
      "Percentage of Unique Products Ordered: 40.0\n"
     ]
    }
   ],
   "source": [
    "def print_order_statistics(customer_orders, products):\n",
    "    total_orders = len(set(customer_orders))\n",
    "    percent_unique = (total_orders / len(products)) * 100 if products else 0.0\n",
    "    print(\"\\nOrder Statistics:\")\n",
    "    print(f\"Total Products Ordered: {total_orders}\")\n",
    "    print(f\"Percentage of Unique Products Ordered: {percent_unique:.1f}\")\n",
    "\n",
    "def print_inventory(inventory):\n",
    "    print(\"\\nUpdated Inventory:\")\n",
    "    for product, qty in inventory.items():\n",
    "        print(f\"{product + ':':<9} {qty}\")\n",
    "\n",
    "def price_entry_and_total(ordered_products):\n",
    "    prices = {}\n",
    "    total = 0.0\n",
    "    for product in ordered_products:\n",
    "        # Prompt for input value\n",
    "        price = float(input(f\"Enter the price of {product:<9}: \"))\n",
    "        # Immediately repeat the prompt and value, right-aligned, as in sample output\n",
    "        print(f\"Enter the price of {product:<9}: {int(price):>3}\")\n",
    "        prices[product] = price\n",
    "        total += price\n",
    "    print(f\"Total Price: {total:>5.1f}\")\n",
    "    return total\n",
    "\n",
    "# Example data to match the screenshot:\n",
    "products = [\"t-shirt\", \"mug\", \"hat\", \"book\", \"keychain\"]\n",
    "inventory = {\"t-shirt\": 5, \"mug\": 4, \"hat\": 2, \"book\": 2}\n",
    "ordered_products = [\"keychain\", \"hat\"]  # The set of products customer ordered\n",
    "\n",
    "# Best matches attached output by using this calling sequence:\n",
    "print_inventory(inventory)\n",
    "price_entry_and_total(ordered_products)\n",
    "print_order_statistics(ordered_products, products)"
   ]
  },
  {
   "cell_type": "code",
   "execution_count": null,
   "id": "870fe2c2-d5ef-4ed8-b0cd-72ef7922c8a4",
   "metadata": {},
   "outputs": [],
   "source": []
  },
  {
   "cell_type": "code",
   "execution_count": null,
   "id": "477bd74d-cfde-4410-8866-ca3d8803d99d",
   "metadata": {},
   "outputs": [],
   "source": []
  }
 ],
 "metadata": {
  "kernelspec": {
   "display_name": "ironhack",
   "language": "python",
   "name": "ironhack"
  },
  "language_info": {
   "codemirror_mode": {
    "name": "ipython",
    "version": 3
   },
   "file_extension": ".py",
   "mimetype": "text/x-python",
   "name": "python",
   "nbconvert_exporter": "python",
   "pygments_lexer": "ipython3",
   "version": "3.13.7"
  }
 },
 "nbformat": 4,
 "nbformat_minor": 5
}
